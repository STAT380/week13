{
  "cells": [
    {
      "cell_type": "markdown",
      "id": "f309919e-403f-4a80-b67f-3f8f28bdb820",
      "metadata": {},
      "source": [
        "# Week 12"
      ]
    },
    {
      "cell_type": "code",
      "execution_count": 25,
      "id": "dd794d03-59fd-45bf-aa78-37cd41da7824",
      "metadata": {
        "hash": "week13_cache/ipynb/unnamed-chunk-1_53f154ad77570810653b738029503136",
        "tags": [],
        "vscode": {
          "languageId": "r"
        }
      },
      "outputs": [],
      "source": [
        "# renv::activate()\n",
        "set.seed(380)"
      ]
    },
    {
      "cell_type": "markdown",
      "id": "198d3ff4-0a1f-4d7f-8545-4df096fee30a",
      "metadata": {},
      "source": [
        "#### Packages we will require this week"
      ]
    },
    {
      "cell_type": "code",
      "execution_count": 26,
      "id": "92df031b-9721-453d-901c-dbefa41d5cfe",
      "metadata": {
        "hash": "week13_cache/ipynb/unnamed-chunk-2_90cba7a6016b6d9b576c877bdca453f3",
        "tags": [],
        "vscode": {
          "languageId": "r"
        },
        "warnings": false
      },
      "outputs": [
        {
          "data": {
            "text/html": [
              "<style>\n",
              ".dl-inline {width: auto; margin:0; padding: 0}\n",
              ".dl-inline>dt, .dl-inline>dd {float: none; width: auto; display: inline-block}\n",
              ".dl-inline>dt::after {content: \":\\0020\"; padding-right: .5ex}\n",
              ".dl-inline>dt:not(:first-of-type) {padding-left: .5ex}\n",
              "</style><dl class=dl-inline><dt>ISLR2</dt><dd>TRUE</dd><dt>dplyr</dt><dd>TRUE</dd><dt>tidyr</dt><dd>TRUE</dd><dt>readr</dt><dd>TRUE</dd><dt>purrr</dt><dd>TRUE</dd><dt>repr</dt><dd>TRUE</dd><dt>tidyverse</dt><dd>TRUE</dd><dt>kableExtra</dt><dd>TRUE</dd><dt>IRdisplay</dt><dd>TRUE</dd><dt>torch</dt><dd>TRUE</dd><dt>torchvision</dt><dd>TRUE</dd><dt>luz</dt><dd>TRUE</dd></dl>\n"
            ],
            "text/latex": [
              "\\begin{description*}\n",
              "\\item[ISLR2] TRUE\n",
              "\\item[dplyr] TRUE\n",
              "\\item[tidyr] TRUE\n",
              "\\item[readr] TRUE\n",
              "\\item[purrr] TRUE\n",
              "\\item[repr] TRUE\n",
              "\\item[tidyverse] TRUE\n",
              "\\item[kableExtra] TRUE\n",
              "\\item[IRdisplay] TRUE\n",
              "\\item[torch] TRUE\n",
              "\\item[torchvision] TRUE\n",
              "\\item[luz] TRUE\n",
              "\\end{description*}\n"
            ],
            "text/markdown": [
              "ISLR2\n",
              ":   TRUEdplyr\n",
              ":   TRUEtidyr\n",
              ":   TRUEreadr\n",
              ":   TRUEpurrr\n",
              ":   TRUErepr\n",
              ":   TRUEtidyverse\n",
              ":   TRUEkableExtra\n",
              ":   TRUEIRdisplay\n",
              ":   TRUEtorch\n",
              ":   TRUEtorchvision\n",
              ":   TRUEluz\n",
              ":   TRUE\n",
              "\n"
            ],
            "text/plain": [
              "      ISLR2       dplyr       tidyr       readr       purrr        repr \n",
              "       TRUE        TRUE        TRUE        TRUE        TRUE        TRUE \n",
              "  tidyverse  kableExtra   IRdisplay       torch torchvision         luz \n",
              "       TRUE        TRUE        TRUE        TRUE        TRUE        TRUE "
            ]
          },
          "metadata": {},
          "output_type": "display_data"
        }
      ],
      "source": [
        "packages <- c(\n",
        "    # Old packages\n",
        "    \"ISLR2\",\n",
        "    \"dplyr\",\n",
        "    \"tidyr\",\n",
        "    \"readr\",\n",
        "    \"purrr\",\n",
        "    \"repr\",\n",
        "    \"tidyverse\",\n",
        "    \"kableExtra\",\n",
        "    \"IRdisplay\",\n",
        "    # NEW\n",
        "    \"torch\",\n",
        "    \"torchvision\",\n",
        "    \"luz\"\n",
        ")\n",
        "# renv::install(packages)\n",
        "sapply(packages, require, character.only=TRUE)"
      ]
    },
    {
      "cell_type": "markdown",
      "id": "65ead7cf-ddb9-4754-b890-bcc3e33457d5",
      "metadata": {},
      "source": [
        "------------------------------------------------------------------------\n",
        "\n",
        "### Agenda:\n",
        "\n",
        "1.  Real-world neural network classification\n",
        "2.  Dataloaders\n",
        "3.  Torch for image classification\n",
        "\n",
        "<br><br><br>\n",
        "\n",
        "## Titanic"
      ]
    },
    {
      "cell_type": "code",
      "execution_count": 27,
      "id": "1dd2cdf8-89d5-480c-a3c6-dccfe21ce690",
      "metadata": {
        "hash": "week13_cache/ipynb/unnamed-chunk-3_8cbf4263100c90e1c50b366fefedbdeb",
        "tags": [],
        "vscode": {
          "languageId": "r"
        }
      },
      "outputs": [
        {
          "name": "stderr",
          "output_type": "stream",
          "text": [
            "\u001b[1mRows: \u001b[22m\u001b[34m887\u001b[39m \u001b[1mColumns: \u001b[22m\u001b[34m8\u001b[39m\n",
            "\u001b[36m--\u001b[39m \u001b[1mColumn specification\u001b[22m \u001b[36m--------------------------------------------------------\u001b[39m\n",
            "\u001b[1mDelimiter:\u001b[22m \",\"\n",
            "\u001b[31mchr\u001b[39m (2): Name, Sex\n",
            "\u001b[32mdbl\u001b[39m (6): Survived, Pclass, Age, Siblings/Spouses Aboard, Parents/Children Ab...\n",
            "\n",
            "\u001b[36mi\u001b[39m Use `spec()` to retrieve the full column specification for this data.\n",
            "\u001b[36mi\u001b[39m Specify the column types or set `show_col_types = FALSE` to quiet this message.\n"
          ]
        }
      ],
      "source": [
        "url <- \"https://web.stanford.edu/class/archive/cs/cs109/cs109.1166/stuff/titanic.csv\"\n",
        "\n",
        "df <- read_csv(url) %>%\n",
        "    mutate_if(\\(x) is.character(x), as.factor) %>%\n",
        "    mutate(y = Survived) %>%\n",
        "    select(-c(Name, Survived)) %>%\n",
        "    (\\(x) {\n",
        "        names(x) <- tolower(names(x))\n",
        "        x\n",
        "    })\n"
      ]
    },
    {
      "cell_type": "markdown",
      "id": "899f5ffc-7aeb-4694-a434-d482f6f4214a",
      "metadata": {},
      "source": [
        "## Breast Cancer Prediction"
      ]
    },
    {
      "cell_type": "code",
      "execution_count": 4,
      "id": "2c8a2fc2-187a-43f1-ab1c-23117b8972ef",
      "metadata": {
        "hash": "week13_cache/ipynb/unnamed-chunk-4_1aa86bb592e18887eb5a8dd60335d12c",
        "tags": [],
        "vscode": {
          "languageId": "r"
        }
      },
      "outputs": [],
      "source": [
        "# url <- \"https://archive.ics.uci.edu/ml/machine-learning-databases/breast-cancer-wisconsin/wdbc.data\"\n",
        "\n",
        "# col_names <- c(\"id\", \"diagnosis\", paste0(\"feat\", 1:30))\n",
        "\n",
        "# df <- read_csv(\n",
        "#         url, col_names, col_types = cols()\n",
        "#     ) %>% \n",
        "#     select(-id) %>% \n",
        "#     mutate(y = ifelse(diagnosis == \"M\", 1, 0)) %>%\n",
        "#     select(-diagnosis)\n",
        "\n",
        "\n",
        "# df %>% head"
      ]
    },
    {
      "cell_type": "markdown",
      "id": "eefcb5d7-f560-4063-a546-2c54a2c5bdf1",
      "metadata": {},
      "source": [
        "### Train/Test Split"
      ]
    },
    {
      "cell_type": "code",
      "execution_count": 28,
      "id": "9a0d0434-9e59-4f0e-9f16-76d1571d15f2",
      "metadata": {
        "hash": "week13_cache/ipynb/unnamed-chunk-5_a04e6919b5a75abb2ce6d3b195d05ca0",
        "tags": [],
        "vscode": {
          "languageId": "r"
        }
      },
      "outputs": [
        {
          "data": {
            "text/html": [
              "<style>\n",
              ".list-inline {list-style: none; margin:0; padding: 0}\n",
              ".list-inline>li {display: inline-block}\n",
              ".list-inline>li:not(:last-child)::after {content: \"\\00b7\"; padding: 0 .5ex}\n",
              "</style>\n",
              "<ol class=list-inline><li>852</li><li>268</li><li>137</li><li>70</li><li>635</li><li>821</li><li>533</li><li>1</li><li>539</li><li>748</li><li>577</li><li>773</li><li>103</li><li>437</li><li>580</li><li>42</li><li>25</li><li>795</li><li>227</li><li>28</li><li>120</li><li>736</li><li>718</li><li>650</li><li>117</li><li>311</li><li>750</li><li>431</li><li>147</li><li>128</li><li>315</li><li>304</li><li>744</li><li>873</li><li>318</li><li>683</li><li>244</li><li>276</li><li>436</li><li>769</li><li>24</li><li>401</li><li>568</li><li>631</li><li>711</li><li>802</li><li>165</li><li>497</li><li>707</li><li>44</li><li>222</li><li>416</li><li>509</li><li>572</li><li>586</li><li>713</li><li>445</li><li>199</li><li>278</li><li>627</li><li>337</li><li>286</li><li>67</li><li>258</li><li>557</li><li>616</li><li>811</li><li>450</li><li>702</li><li>525</li><li>338</li><li>85</li><li>837</li><li>696</li><li>386</li><li>335</li><li>452</li><li>219</li><li>228</li><li>506</li><li>37</li><li>34</li><li>46</li><li>218</li><li>423</li><li>453</li><li>139</li><li>566</li><li>855</li><li>458</li><li>846</li><li>39</li><li>660</li><li>723</li><li>432</li><li>673</li><li>464</li><li>576</li><li>200</li><li>724</li><li>722</li><li>629</li><li>388</li><li>485</li><li>648</li><li>779</li><li>608</li><li>10</li><li>556</li><li>489</li><li>363</li><li>242</li><li>814</li><li>36</li><li>395</li><li>82</li><li>618</li><li>771</li><li>886</li><li>302</li><li>615</li><li>73</li><li>349</li><li>333</li><li>330</li><li>83</li><li>3</li><li>653</li><li>853</li><li>134</li><li>96</li><li>149</li><li>776</li><li>628</li><li>749</li><li>204</li><li>232</li><li>734</li><li>867</li><li>530</li><li>291</li><li>865</li><li>762</li><li>164</li><li>836</li><li>610</li><li>701</li><li>98</li><li>755</li><li>503</li><li>301</li><li>198</li><li>719</li><li>598</li><li>688</li><li>518</li><li>161</li><li>465</li><li>523</li><li>862</li><li>659</li><li>40</li><li>567</li><li>354</li><li>371</li><li>520</li><li>777</li><li>858</li><li>584</li><li>116</li><li>314</li><li>756</li><li>357</li><li>841</li><li>496</li><li>344</li><li>486</li></ol>\n"
            ],
            "text/latex": [
              "\\begin{enumerate*}\n",
              "\\item 852\n",
              "\\item 268\n",
              "\\item 137\n",
              "\\item 70\n",
              "\\item 635\n",
              "\\item 821\n",
              "\\item 533\n",
              "\\item 1\n",
              "\\item 539\n",
              "\\item 748\n",
              "\\item 577\n",
              "\\item 773\n",
              "\\item 103\n",
              "\\item 437\n",
              "\\item 580\n",
              "\\item 42\n",
              "\\item 25\n",
              "\\item 795\n",
              "\\item 227\n",
              "\\item 28\n",
              "\\item 120\n",
              "\\item 736\n",
              "\\item 718\n",
              "\\item 650\n",
              "\\item 117\n",
              "\\item 311\n",
              "\\item 750\n",
              "\\item 431\n",
              "\\item 147\n",
              "\\item 128\n",
              "\\item 315\n",
              "\\item 304\n",
              "\\item 744\n",
              "\\item 873\n",
              "\\item 318\n",
              "\\item 683\n",
              "\\item 244\n",
              "\\item 276\n",
              "\\item 436\n",
              "\\item 769\n",
              "\\item 24\n",
              "\\item 401\n",
              "\\item 568\n",
              "\\item 631\n",
              "\\item 711\n",
              "\\item 802\n",
              "\\item 165\n",
              "\\item 497\n",
              "\\item 707\n",
              "\\item 44\n",
              "\\item 222\n",
              "\\item 416\n",
              "\\item 509\n",
              "\\item 572\n",
              "\\item 586\n",
              "\\item 713\n",
              "\\item 445\n",
              "\\item 199\n",
              "\\item 278\n",
              "\\item 627\n",
              "\\item 337\n",
              "\\item 286\n",
              "\\item 67\n",
              "\\item 258\n",
              "\\item 557\n",
              "\\item 616\n",
              "\\item 811\n",
              "\\item 450\n",
              "\\item 702\n",
              "\\item 525\n",
              "\\item 338\n",
              "\\item 85\n",
              "\\item 837\n",
              "\\item 696\n",
              "\\item 386\n",
              "\\item 335\n",
              "\\item 452\n",
              "\\item 219\n",
              "\\item 228\n",
              "\\item 506\n",
              "\\item 37\n",
              "\\item 34\n",
              "\\item 46\n",
              "\\item 218\n",
              "\\item 423\n",
              "\\item 453\n",
              "\\item 139\n",
              "\\item 566\n",
              "\\item 855\n",
              "\\item 458\n",
              "\\item 846\n",
              "\\item 39\n",
              "\\item 660\n",
              "\\item 723\n",
              "\\item 432\n",
              "\\item 673\n",
              "\\item 464\n",
              "\\item 576\n",
              "\\item 200\n",
              "\\item 724\n",
              "\\item 722\n",
              "\\item 629\n",
              "\\item 388\n",
              "\\item 485\n",
              "\\item 648\n",
              "\\item 779\n",
              "\\item 608\n",
              "\\item 10\n",
              "\\item 556\n",
              "\\item 489\n",
              "\\item 363\n",
              "\\item 242\n",
              "\\item 814\n",
              "\\item 36\n",
              "\\item 395\n",
              "\\item 82\n",
              "\\item 618\n",
              "\\item 771\n",
              "\\item 886\n",
              "\\item 302\n",
              "\\item 615\n",
              "\\item 73\n",
              "\\item 349\n",
              "\\item 333\n",
              "\\item 330\n",
              "\\item 83\n",
              "\\item 3\n",
              "\\item 653\n",
              "\\item 853\n",
              "\\item 134\n",
              "\\item 96\n",
              "\\item 149\n",
              "\\item 776\n",
              "\\item 628\n",
              "\\item 749\n",
              "\\item 204\n",
              "\\item 232\n",
              "\\item 734\n",
              "\\item 867\n",
              "\\item 530\n",
              "\\item 291\n",
              "\\item 865\n",
              "\\item 762\n",
              "\\item 164\n",
              "\\item 836\n",
              "\\item 610\n",
              "\\item 701\n",
              "\\item 98\n",
              "\\item 755\n",
              "\\item 503\n",
              "\\item 301\n",
              "\\item 198\n",
              "\\item 719\n",
              "\\item 598\n",
              "\\item 688\n",
              "\\item 518\n",
              "\\item 161\n",
              "\\item 465\n",
              "\\item 523\n",
              "\\item 862\n",
              "\\item 659\n",
              "\\item 40\n",
              "\\item 567\n",
              "\\item 354\n",
              "\\item 371\n",
              "\\item 520\n",
              "\\item 777\n",
              "\\item 858\n",
              "\\item 584\n",
              "\\item 116\n",
              "\\item 314\n",
              "\\item 756\n",
              "\\item 357\n",
              "\\item 841\n",
              "\\item 496\n",
              "\\item 344\n",
              "\\item 486\n",
              "\\end{enumerate*}\n"
            ],
            "text/markdown": [
              "1. 852\n",
              "2. 268\n",
              "3. 137\n",
              "4. 70\n",
              "5. 635\n",
              "6. 821\n",
              "7. 533\n",
              "8. 1\n",
              "9. 539\n",
              "10. 748\n",
              "11. 577\n",
              "12. 773\n",
              "13. 103\n",
              "14. 437\n",
              "15. 580\n",
              "16. 42\n",
              "17. 25\n",
              "18. 795\n",
              "19. 227\n",
              "20. 28\n",
              "21. 120\n",
              "22. 736\n",
              "23. 718\n",
              "24. 650\n",
              "25. 117\n",
              "26. 311\n",
              "27. 750\n",
              "28. 431\n",
              "29. 147\n",
              "30. 128\n",
              "31. 315\n",
              "32. 304\n",
              "33. 744\n",
              "34. 873\n",
              "35. 318\n",
              "36. 683\n",
              "37. 244\n",
              "38. 276\n",
              "39. 436\n",
              "40. 769\n",
              "41. 24\n",
              "42. 401\n",
              "43. 568\n",
              "44. 631\n",
              "45. 711\n",
              "46. 802\n",
              "47. 165\n",
              "48. 497\n",
              "49. 707\n",
              "50. 44\n",
              "51. 222\n",
              "52. 416\n",
              "53. 509\n",
              "54. 572\n",
              "55. 586\n",
              "56. 713\n",
              "57. 445\n",
              "58. 199\n",
              "59. 278\n",
              "60. 627\n",
              "61. 337\n",
              "62. 286\n",
              "63. 67\n",
              "64. 258\n",
              "65. 557\n",
              "66. 616\n",
              "67. 811\n",
              "68. 450\n",
              "69. 702\n",
              "70. 525\n",
              "71. 338\n",
              "72. 85\n",
              "73. 837\n",
              "74. 696\n",
              "75. 386\n",
              "76. 335\n",
              "77. 452\n",
              "78. 219\n",
              "79. 228\n",
              "80. 506\n",
              "81. 37\n",
              "82. 34\n",
              "83. 46\n",
              "84. 218\n",
              "85. 423\n",
              "86. 453\n",
              "87. 139\n",
              "88. 566\n",
              "89. 855\n",
              "90. 458\n",
              "91. 846\n",
              "92. 39\n",
              "93. 660\n",
              "94. 723\n",
              "95. 432\n",
              "96. 673\n",
              "97. 464\n",
              "98. 576\n",
              "99. 200\n",
              "100. 724\n",
              "101. 722\n",
              "102. 629\n",
              "103. 388\n",
              "104. 485\n",
              "105. 648\n",
              "106. 779\n",
              "107. 608\n",
              "108. 10\n",
              "109. 556\n",
              "110. 489\n",
              "111. 363\n",
              "112. 242\n",
              "113. 814\n",
              "114. 36\n",
              "115. 395\n",
              "116. 82\n",
              "117. 618\n",
              "118. 771\n",
              "119. 886\n",
              "120. 302\n",
              "121. 615\n",
              "122. 73\n",
              "123. 349\n",
              "124. 333\n",
              "125. 330\n",
              "126. 83\n",
              "127. 3\n",
              "128. 653\n",
              "129. 853\n",
              "130. 134\n",
              "131. 96\n",
              "132. 149\n",
              "133. 776\n",
              "134. 628\n",
              "135. 749\n",
              "136. 204\n",
              "137. 232\n",
              "138. 734\n",
              "139. 867\n",
              "140. 530\n",
              "141. 291\n",
              "142. 865\n",
              "143. 762\n",
              "144. 164\n",
              "145. 836\n",
              "146. 610\n",
              "147. 701\n",
              "148. 98\n",
              "149. 755\n",
              "150. 503\n",
              "151. 301\n",
              "152. 198\n",
              "153. 719\n",
              "154. 598\n",
              "155. 688\n",
              "156. 518\n",
              "157. 161\n",
              "158. 465\n",
              "159. 523\n",
              "160. 862\n",
              "161. 659\n",
              "162. 40\n",
              "163. 567\n",
              "164. 354\n",
              "165. 371\n",
              "166. 520\n",
              "167. 777\n",
              "168. 858\n",
              "169. 584\n",
              "170. 116\n",
              "171. 314\n",
              "172. 756\n",
              "173. 357\n",
              "174. 841\n",
              "175. 496\n",
              "176. 344\n",
              "177. 486\n",
              "\n",
              "\n"
            ],
            "text/plain": [
              "  [1] 852 268 137  70 635 821 533   1 539 748 577 773 103 437 580  42  25 795\n",
              " [19] 227  28 120 736 718 650 117 311 750 431 147 128 315 304 744 873 318 683\n",
              " [37] 244 276 436 769  24 401 568 631 711 802 165 497 707  44 222 416 509 572\n",
              " [55] 586 713 445 199 278 627 337 286  67 258 557 616 811 450 702 525 338  85\n",
              " [73] 837 696 386 335 452 219 228 506  37  34  46 218 423 453 139 566 855 458\n",
              " [91] 846  39 660 723 432 673 464 576 200 724 722 629 388 485 648 779 608  10\n",
              "[109] 556 489 363 242 814  36 395  82 618 771 886 302 615  73 349 333 330  83\n",
              "[127]   3 653 853 134  96 149 776 628 749 204 232 734 867 530 291 865 762 164\n",
              "[145] 836 610 701  98 755 503 301 198 719 598 688 518 161 465 523 862 659  40\n",
              "[163] 567 354 371 520 777 858 584 116 314 756 357 841 496 344 486"
            ]
          },
          "metadata": {},
          "output_type": "display_data"
        }
      ],
      "source": [
        "k <- 5\n",
        "\n",
        "test_ind <- sample(\n",
        "    1:nrow(df), \n",
        "    floor(nrow(df) / k),\n",
        "    replace=FALSE\n",
        ")\n",
        "test_ind"
      ]
    },
    {
      "cell_type": "code",
      "execution_count": 29,
      "id": "8fca6256-92c9-4f5f-9e1c-86ab35bc4a17",
      "metadata": {
        "hash": "week13_cache/ipynb/unnamed-chunk-6_6891c41d5cda352d7f576145f68b2262",
        "tags": [],
        "vscode": {
          "languageId": "r"
        }
      },
      "outputs": [
        {
          "data": {
            "text/html": [
              "710"
            ],
            "text/latex": [
              "710"
            ],
            "text/markdown": [
              "710"
            ],
            "text/plain": [
              "[1] 710"
            ]
          },
          "metadata": {},
          "output_type": "display_data"
        },
        {
          "data": {
            "text/html": [
              "TRUE"
            ],
            "text/latex": [
              "TRUE"
            ],
            "text/markdown": [
              "TRUE"
            ],
            "text/plain": [
              "[1] TRUE"
            ]
          },
          "metadata": {},
          "output_type": "display_data"
        }
      ],
      "source": [
        "df_train <- df[-test_ind, ]\n",
        "df_test  <- df[test_ind, ]\n",
        "nrow(df_train)\n",
        "nrow(df_train) + nrow(df_test) == nrow(df)"
      ]
    },
    {
      "cell_type": "markdown",
      "id": "a6a5e1d8-9a3d-4cb5-ac29-2b372ca43caa",
      "metadata": {},
      "source": [
        "### Benchmark with Logistic Regression"
      ]
    },
    {
      "cell_type": "code",
      "execution_count": 30,
      "id": "053e6b5b-827d-469c-ab9c-09ba1fa076c5",
      "metadata": {
        "hash": "week13_cache/ipynb/unnamed-chunk-7_f1684569eccfbcf52a384ceca9751b42",
        "tags": [],
        "vscode": {
          "languageId": "r"
        }
      },
      "outputs": [
        {
          "data": {
            "text/plain": [
              "         \n",
              "glm_preds   0   1\n",
              "        0 105  23\n",
              "        1   9  40"
            ]
          },
          "metadata": {},
          "output_type": "display_data"
        }
      ],
      "source": [
        "fit_glm <- glm(\n",
        "    y ~ ., \n",
        "    df_train %>% mutate_at(\"y\", factor), \n",
        "    family = binomial()\n",
        ")\n",
        "\n",
        "glm_test <- predict(\n",
        "    fit_glm, \n",
        "    df_test,\n",
        "    output = \"response\"\n",
        ")\n",
        "\n",
        "glm_preds <- ifelse(glm_test > 0.5, 1, 0)\n",
        "table(glm_preds, df_test$y)"
      ]
    },
    {
      "cell_type": "markdown",
      "id": "765859e7-7761-4bdd-a4ee-358b984ef430",
      "metadata": {},
      "source": [
        "### Neural Net Model"
      ]
    },
    {
      "cell_type": "code",
      "execution_count": 31,
      "id": "dae90f05-9b90-46d0-9e86-1df31913e834",
      "metadata": {
        "hash": "week13_cache/ipynb/unnamed-chunk-8_4afcf22e0763b839c1506e9b811c1162",
        "tags": [],
        "vscode": {
          "languageId": "r"
        }
      },
      "outputs": [],
      "source": [
        "NNet <- nn_module(\n",
        "  initialize = function(p, q1, q2, q3) {  \n",
        "    self$hidden1 <- nn_linear(p, q1)\n",
        "    self$hidden2 <- nn_linear(q1, q2)\n",
        "    self$hidden3 <- nn_linear(q2, q3)\n",
        "    self$output <- nn_linear(q3, 1)\n",
        "    self$activation <- nn_relu()\n",
        "    self$sigmoid <- nn_sigmoid()\n",
        "  },\n",
        "    \n",
        "  forward = function(x) {\n",
        "    x %>% \n",
        "      self$hidden1() %>% self$activation() %>% \n",
        "      self$hidden2() %>% self$activation() %>% \n",
        "      self$hidden3() %>% self$activation() %>% \n",
        "      self$output() %>% self$sigmoid()\n",
        "  }\n",
        ")"
      ]
    },
    {
      "cell_type": "markdown",
      "id": "a1f0d7b9-1aab-4d72-9c33-8df770a5804f",
      "metadata": {},
      "source": [
        "### Fit using Luz\n",
        "\n",
        "If a model has 0 intercept then when the intercept is 0 then everything\n",
        "else is also 0. This can be useful at times. For example if modeling\n",
        "horsepower to car price then it makes sense that if the horsepower is 0\n",
        "then so should the price"
      ]
    },
    {
      "cell_type": "code",
      "execution_count": 32,
      "id": "90301596",
      "metadata": {
        "vscode": {
          "languageId": "r"
        }
      },
      "outputs": [],
      "source": [
        "M <- model.matrix(y ~ 0 + ., data = df_train)"
      ]
    },
    {
      "cell_type": "code",
      "execution_count": 33,
      "id": "9963a4be-5660-431c-a34a-a9e8f413fea6",
      "metadata": {
        "hash": "week13_cache/ipynb/unnamed-chunk-9_5cf6db8f540f7413a2caed156714591d",
        "tags": [],
        "vscode": {
          "languageId": "r"
        }
      },
      "outputs": [
        {
          "name": "stderr",
          "output_type": "stream",
          "text": [
            "Epoch 1/50\n"
          ]
        },
        {
          "name": "stderr",
          "output_type": "stream",
          "text": [
            "Train metrics: Loss: 0.6901 - Acc: 12.5\n",
            "Valid metrics: Loss: 0.6925 - Acc: 10.7966\n",
            "Epoch 2/50\n",
            "Train metrics: Loss: 0.6124 - Acc: 12.5909\n",
            "Valid metrics: Loss: 0.6512 - Acc: 10.7966\n",
            "Epoch 3/50\n",
            "Train metrics: Loss: 0.6 - Acc: 12.5909\n",
            "Valid metrics: Loss: 0.6183 - Acc: 10.7966\n",
            "Epoch 4/50\n",
            "Train metrics: Loss: 0.5744 - Acc: 12.6818\n",
            "Valid metrics: Loss: 0.6428 - Acc: 10.7966\n",
            "Epoch 5/50\n",
            "Train metrics: Loss: 0.5693 - Acc: 12.5909\n",
            "Valid metrics: Loss: 0.5945 - Acc: 10.7966\n",
            "Epoch 6/50\n",
            "Train metrics: Loss: 0.5419 - Acc: 12.5909\n",
            "Valid metrics: Loss: 0.6765 - Acc: 10.7966\n",
            "Epoch 7/50\n",
            "Train metrics: Loss: 0.537 - Acc: 12.6364\n",
            "Valid metrics: Loss: 0.5398 - Acc: 10.7966\n",
            "Epoch 8/50\n",
            "Train metrics: Loss: 0.5204 - Acc: 12.5\n",
            "Valid metrics: Loss: 0.5567 - Acc: 10.7966\n",
            "Epoch 9/50\n",
            "Train metrics: Loss: 0.5016 - Acc: 12.5909\n",
            "Valid metrics: Loss: 0.4832 - Acc: 10.7966\n",
            "Epoch 10/50\n",
            "Train metrics: Loss: 0.4776 - Acc: 12.5\n",
            "Valid metrics: Loss: 0.4836 - Acc: 10.7966\n",
            "Epoch 11/50\n",
            "Train metrics: Loss: 0.4697 - Acc: 12.5455\n",
            "Valid metrics: Loss: 0.8374 - Acc: 10.7966\n",
            "Epoch 12/50\n",
            "Train metrics: Loss: 0.4644 - Acc: 12.5909\n",
            "Valid metrics: Loss: 0.4736 - Acc: 10.7966\n",
            "Epoch 13/50\n",
            "Train metrics: Loss: 0.4763 - Acc: 12.5455\n",
            "Valid metrics: Loss: 0.514 - Acc: 10.7966\n",
            "Epoch 14/50\n",
            "Train metrics: Loss: 0.4675 - Acc: 12.5909\n",
            "Valid metrics: Loss: 0.516 - Acc: 10.7966\n",
            "Epoch 15/50\n",
            "Train metrics: Loss: 0.4449 - Acc: 12.5\n",
            "Valid metrics: Loss: 0.5046 - Acc: 10.7966\n",
            "Epoch 16/50\n",
            "Train metrics: Loss: 0.4355 - Acc: 12.5909\n",
            "Valid metrics: Loss: 0.4586 - Acc: 10.7966\n",
            "Epoch 17/50\n",
            "Train metrics: Loss: 0.4399 - Acc: 12.5455\n",
            "Valid metrics: Loss: 0.4471 - Acc: 10.7966\n",
            "Epoch 18/50\n",
            "Train metrics: Loss: 0.4194 - Acc: 12.5909\n",
            "Valid metrics: Loss: 0.4326 - Acc: 10.7966\n",
            "Epoch 19/50\n",
            "Train metrics: Loss: 0.4234 - Acc: 12.5\n",
            "Valid metrics: Loss: 0.4244 - Acc: 10.7966\n",
            "Epoch 20/50\n",
            "Train metrics: Loss: 0.4226 - Acc: 12.6364\n",
            "Valid metrics: Loss: 0.4221 - Acc: 10.7966\n",
            "Epoch 21/50\n",
            "Train metrics: Loss: 0.4051 - Acc: 12.5\n",
            "Valid metrics: Loss: 0.4735 - Acc: 10.7966\n",
            "Epoch 22/50\n",
            "Train metrics: Loss: 0.4328 - Acc: 12.5\n",
            "Valid metrics: Loss: 0.4551 - Acc: 10.7966\n",
            "Epoch 23/50\n",
            "Train metrics: Loss: 0.4263 - Acc: 12.5455\n",
            "Valid metrics: Loss: 0.4671 - Acc: 10.7966\n",
            "Epoch 24/50\n",
            "Train metrics: Loss: 0.4149 - Acc: 12.5455\n",
            "Valid metrics: Loss: 0.4435 - Acc: 10.7966\n",
            "Epoch 25/50\n",
            "Train metrics: Loss: 0.4208 - Acc: 12.6818\n",
            "Valid metrics: Loss: 0.4314 - Acc: 10.7966\n",
            "Epoch 26/50\n",
            "Train metrics: Loss: 0.4105 - Acc: 12.5455\n",
            "Valid metrics: Loss: 0.4981 - Acc: 10.7966\n",
            "Epoch 27/50\n",
            "Train metrics: Loss: 0.4089 - Acc: 12.5909\n",
            "Valid metrics: Loss: 0.4412 - Acc: 10.7966\n",
            "Epoch 28/50\n",
            "Train metrics: Loss: 0.4053 - Acc: 12.6364\n",
            "Valid metrics: Loss: 0.4354 - Acc: 10.7966\n",
            "Epoch 29/50\n",
            "Train metrics: Loss: 0.4115 - Acc: 12.5909\n",
            "Valid metrics: Loss: 0.4174 - Acc: 10.7966\n",
            "Epoch 30/50\n",
            "Train metrics: Loss: 0.4078 - Acc: 12.6364\n",
            "Valid metrics: Loss: 0.4337 - Acc: 10.7966\n",
            "Epoch 31/50\n",
            "Train metrics: Loss: 0.4132 - Acc: 12.5909\n",
            "Valid metrics: Loss: 0.4333 - Acc: 10.7966\n",
            "Epoch 32/50\n",
            "Train metrics: Loss: 0.3952 - Acc: 12.5455\n",
            "Valid metrics: Loss: 0.4233 - Acc: 10.7966\n",
            "Epoch 33/50\n",
            "Train metrics: Loss: 0.4123 - Acc: 12.6364\n",
            "Valid metrics: Loss: 0.4536 - Acc: 10.7966\n",
            "Epoch 34/50\n",
            "Train metrics: Loss: 0.4074 - Acc: 12.5909\n",
            "Valid metrics: Loss: 0.4189 - Acc: 10.7966\n",
            "Epoch 35/50\n",
            "Train metrics: Loss: 0.3968 - Acc: 12.5\n",
            "Valid metrics: Loss: 0.4233 - Acc: 10.7966\n",
            "Epoch 36/50\n",
            "Train metrics: Loss: 0.3969 - Acc: 12.5909\n",
            "Valid metrics: Loss: 0.4368 - Acc: 10.7966\n",
            "Epoch 37/50\n",
            "Train metrics: Loss: 0.385 - Acc: 12.4545\n",
            "Valid metrics: Loss: 0.4394 - Acc: 10.7966\n",
            "Epoch 38/50\n",
            "Train metrics: Loss: 0.398 - Acc: 12.6818\n",
            "Valid metrics: Loss: 0.3986 - Acc: 10.7966\n",
            "Epoch 39/50\n",
            "Train metrics: Loss: 0.3957 - Acc: 12.6364\n",
            "Valid metrics: Loss: 0.4467 - Acc: 10.7966\n",
            "Epoch 40/50\n",
            "Train metrics: Loss: 0.3833 - Acc: 12.5909\n",
            "Valid metrics: Loss: 0.4603 - Acc: 10.7966\n",
            "Epoch 41/50\n",
            "Train metrics: Loss: 0.413 - Acc: 12.6364\n",
            "Valid metrics: Loss: 0.5091 - Acc: 10.7966\n",
            "Epoch 42/50\n",
            "Train metrics: Loss: 0.4187 - Acc: 12.5909\n",
            "Valid metrics: Loss: 0.4476 - Acc: 10.7966\n",
            "Epoch 43/50\n",
            "Train metrics: Loss: 0.3864 - Acc: 12.5909\n",
            "Valid metrics: Loss: 0.4928 - Acc: 10.7966\n",
            "Epoch 44/50\n",
            "Train metrics: Loss: 0.3872 - Acc: 12.6364\n",
            "Valid metrics: Loss: 0.5053 - Acc: 10.7966\n",
            "Epoch 45/50\n",
            "Train metrics: Loss: 0.3952 - Acc: 12.5909\n",
            "Valid metrics: Loss: 0.4635 - Acc: 10.7966\n",
            "Epoch 46/50\n",
            "Train metrics: Loss: 0.408 - Acc: 12.5\n",
            "Valid metrics: Loss: 0.448 - Acc: 10.7966\n",
            "Epoch 47/50\n",
            "Train metrics: Loss: 0.3949 - Acc: 12.5909\n",
            "Valid metrics: Loss: 0.4261 - Acc: 10.7966\n",
            "Epoch 48/50\n",
            "Train metrics: Loss: 0.397 - Acc: 12.5455\n",
            "Valid metrics: Loss: 0.451 - Acc: 10.7966\n",
            "Epoch 49/50\n",
            "Train metrics: Loss: 0.3913 - Acc: 12.5\n",
            "Valid metrics: Loss: 0.4301 - Acc: 10.7966\n",
            "Epoch 50/50\n",
            "Train metrics: Loss: 0.3873 - Acc: 12.5455\n",
            "Valid metrics: Loss: 0.4867 - Acc: 10.7966\n"
          ]
        }
      ],
      "source": [
        "fit_nn <- NNet %>% \n",
        "    # setup model\n",
        "    setup(loss = nn_bce_loss(),\n",
        "        optimizer = optim_adam,\n",
        "        metrics = list(luz_metric_accuracy())) %>%\n",
        "    # set the hyperparameters\n",
        "    set_hparams(p=ncol(M), q1 = 256, q2 = 128, q3 = 64) %>%\n",
        "    set_opt_hparams(lr = 0.005) %>%\n",
        "    # fit the model\n",
        "    fit(data = list(\n",
        "            model.matrix(y ~ 0 + ., data = df_train),\n",
        "            df_train %>% select(y) %>% as.matrix\n",
        "        ), \n",
        "        valid_data = list(\n",
        "            model.matrix(y ~ 0 + ., data = df_test),\n",
        "            df_test %>% select(y) %>% as.matrix\n",
        "        ),\n",
        "        epochs = 50,\n",
        "        verbose = TRUE)"
      ]
    },
    {
      "cell_type": "code",
      "execution_count": 34,
      "id": "bc137659-da67-4139-b9d7-7bb7af768c1e",
      "metadata": {
        "hash": "week13_cache/ipynb/unnamed-chunk-10_6126702bf021bb877ac98c45c8fa387d",
        "tags": [],
        "vscode": {
          "languageId": "r"
        }
      },
      "outputs": [
        {
          "data": {
            "image/png": "[encoded data removed]",
            "text/plain": [
              "plot without title"
            ]
          },
          "metadata": {
            "image/png": {
              "height": 420,
              "width": 420
            }
          },
          "output_type": "display_data"
        }
      ],
      "source": [
        "plot(fit_nn)"
      ]
    },
    {
      "cell_type": "code",
      "execution_count": 38,
      "id": "448a24a6-6a0e-41e0-bdfe-61f1faf3cd7f",
      "metadata": {
        "hash": "week13_cache/ipynb/unnamed-chunk-11_8b0a17a5f69491a6f50f511032a29009",
        "tags": [],
        "vscode": {
          "languageId": "r"
        }
      },
      "outputs": [
        {
          "data": {
            "text/plain": [
              "        \n",
              "nn_preds   0   1\n",
              "       0 108  34\n",
              "       1   6  29"
            ]
          },
          "metadata": {},
          "output_type": "display_data"
        },
        {
          "data": {
            "text/plain": [
              "         \n",
              "glm_preds   0   1\n",
              "        0 105  23\n",
              "        1   9  40"
            ]
          },
          "metadata": {},
          "output_type": "display_data"
        }
      ],
      "source": [
        "nn_test <- predict(\n",
        "    fit_nn, \n",
        "    model.matrix(y ~ . - 1, data = df_test)\n",
        ")\n",
        "\n",
        "nn_preds <- ifelse(nn_test > 0.5, 1, 0)\n",
        "table(nn_preds, df_test$y)\n",
        "table(glm_preds, df_test$y)"
      ]
    },
    {
      "cell_type": "code",
      "execution_count": null,
      "id": "5951addd-597a-478f-a549-0f2fa9240ece",
      "metadata": {
        "hash": "week13_cache/ipynb/unnamed-chunk-12_c9bcd35a524229f31f9387d688792fd9",
        "tags": [],
        "vscode": {
          "languageId": "r"
        }
      },
      "outputs": [],
      "source": []
    },
    {
      "cell_type": "code",
      "execution_count": null,
      "id": "58d59f75-3e57-4066-8a7c-ea59135a73ae",
      "metadata": {
        "hash": "week13_cache/ipynb/unnamed-chunk-13_b0fbaa5942a57026fed2aa28b809e069",
        "vscode": {
          "languageId": "r"
        }
      },
      "outputs": [],
      "source": []
    },
    {
      "cell_type": "markdown",
      "id": "24ac9e3e-5d0a-4c45-be3f-49c6873dca77",
      "metadata": {},
      "source": [
        "In this case the neural net did worse than logistic regression but the\n",
        "good part is that we can change some parameters like the learning rate\n",
        "that will give us better results. Also these were small data sets but if\n",
        "we were to do this with bigger ones then the neural nets would\n",
        "outperform the logistic regression models in a more noticable way.\n",
        "\n",
        "<br><br><br><br>\n",
        "\n",
        "------------------------------------------------------------------------\n",
        "\n",
        "### DataLoaders\n",
        "\n",
        "-   Dataloaders are a key component in the machine learning pipeline.\n",
        "\n",
        "-   They handle loading and preprocessing data in a way that is\n",
        "    efficient for training and evaluating models.\n",
        "\n",
        "-   Dataloaders make it easy to work with large datasets by loading the\n",
        "    data in smaller chunks (called **batches**) and applying\n",
        "    transformations *on-the-fly*.\n",
        "\n",
        "In the context of machine learning, a DataLoader is a utility used for\n",
        "efficiently loading and processing data during the training or\n",
        "evaluation of models, particularly in deep learning frameworks like\n",
        "PyTorch or TensorFlow.\n",
        "\n",
        "1.  **Batching**: DataLoaders typically load data in batches. Instead of\n",
        "    loading the entire dataset at once, which may not fit into memory\n",
        "    for large datasets, DataLoader loads a small subset (batch) of the\n",
        "    data at a time. Batching is crucial for training deep learning\n",
        "    models efficiently, as it allows the model to update its parameters\n",
        "    based on multiple samples at once, which often leads to more stable\n",
        "    training and faster convergence.\n",
        "\n",
        "2.  **Shuffling**: When training machine learning models, it’s common\n",
        "    practice to shuffle the dataset before each epoch (complete pass\n",
        "    through the dataset). Shuffling ensures that the model doesn’t learn\n",
        "    from the order of the data and helps prevent any bias that might\n",
        "    arise from the order of the samples. DataLoader typically provides\n",
        "    an option to shuffle the data while loading batches.\n",
        "\n",
        "3.  **Parallelism**: Many modern deep learning frameworks support\n",
        "    parallel processing, which can significantly speed up data loading.\n",
        "    DataLoader often leverages this parallelism by loading batches in\n",
        "    parallel, especially when the data is stored on disk or in remote\n",
        "    storage systems.\n",
        "\n",
        "4.  **Data Transformation**: DataLoader often includes functionality for\n",
        "    applying transformations to the data on-the-fly. These\n",
        "    transformations can include data augmentation (e.g., random\n",
        "    rotations, flips, crops for image data), normalization (scaling\n",
        "    pixel values, z-score normalization), or any other preprocessing\n",
        "    steps required for the model.\n",
        "\n",
        "5.  **Integration with Frameworks**: DataLoader is typically integrated\n",
        "    into deep learning frameworks such as PyTorch or TensorFlow, making\n",
        "    it easy to use with other components of the framework like models,\n",
        "    loss functions, and optimizers.\n",
        "\n",
        "##### Why use Dataloaders?\n",
        "\n",
        "> -   **Efficient memory management:** loading data in smaller chunks\n",
        ">     reduces memory usage.\n",
        ">\n",
        "> -   **Parallelism:** supports asynchronous data loading for faster\n",
        ">     processing.\n",
        ">\n",
        "> -   **Preprocessing:** apply data transformations on-the-fly during\n",
        ">     training and evaluation.\n",
        ">\n",
        "> -   **Flexibility:** easily switch between different datasets or\n",
        ">     preprocessing steps.\n",
        ">\n",
        "> -   **Standardization:** consistent data format across various machine\n",
        ">     learning projects."
      ]
    },
    {
      "cell_type": "code",
      "execution_count": 39,
      "id": "8f6ca436-3028-48ef-a768-679125fc1607",
      "metadata": {
        "hash": "week13_cache/ipynb/unnamed-chunk-14_1e32166aae9483fbdb93c0b6649cfefa",
        "tags": [],
        "vscode": {
          "languageId": "r"
        }
      },
      "outputs": [
        {
          "name": "stdout",
          "output_type": "stream",
          "text": [
            "dataloader                package:torch                R Documentation\n",
            "\n",
            "_\bD_\ba_\bt_\ba _\bl_\bo_\ba_\bd_\be_\br. _\bC_\bo_\bm_\bb_\bi_\bn_\be_\bs _\ba _\bd_\ba_\bt_\ba_\bs_\be_\bt _\ba_\bn_\bd _\ba _\bs_\ba_\bm_\bp_\bl_\be_\br, _\ba_\bn_\bd _\bp_\br_\bo_\bv_\bi_\bd_\be_\bs _\bs_\bi_\bn_\bg_\bl_\be- _\bo_\br\n",
            "_\bm_\bu_\bl_\bt_\bi-_\bp_\br_\bo_\bc_\be_\bs_\bs _\bi_\bt_\be_\br_\ba_\bt_\bo_\br_\bs _\bo_\bv_\be_\br _\bt_\bh_\be _\bd_\ba_\bt_\ba_\bs_\be_\bt.\n",
            "\n",
            "_\bD_\be_\bs_\bc_\br_\bi_\bp_\bt_\bi_\bo_\bn:\n",
            "\n",
            "     Data loader. Combines a dataset and a sampler, and provides\n",
            "     single- or multi-process iterators over the dataset.\n",
            "\n",
            "_\bU_\bs_\ba_\bg_\be:\n",
            "\n",
            "     dataloader(\n",
            "       dataset,\n",
            "       batch_size = 1,\n",
            "       shuffle = FALSE,\n",
            "       sampler = NULL,\n",
            "       batch_sampler = NULL,\n",
            "       num_workers = 0,\n",
            "       collate_fn = NULL,\n",
            "       pin_memory = FALSE,\n",
            "       drop_last = FALSE,\n",
            "       timeout = -1,\n",
            "       worker_init_fn = NULL,\n",
            "       worker_globals = NULL,\n",
            "       worker_packages = NULL\n",
            "     )\n",
            "     \n",
            "_\bA_\br_\bg_\bu_\bm_\be_\bn_\bt_\bs:\n",
            "\n",
            " dataset: (Dataset): dataset from which to load the data.\n",
            "\n",
            "batch_size: (int, optional): how many samples per batch to load\n",
            "          (default: '1').\n",
            "\n",
            " shuffle: (bool, optional): set to 'TRUE' to have the data reshuffled\n",
            "          at every epoch (default: 'FALSE').\n",
            "\n",
            " sampler: (Sampler, optional): defines the strategy to draw samples\n",
            "          from the dataset. If specified, 'shuffle' must be False.\n",
            "          Custom samplers can be created with 'sampler()'.\n",
            "\n",
            "batch_sampler: (Sampler, optional): like sampler, but returns a batch\n",
            "          of indices at a time. Mutually exclusive with 'batch_size',\n",
            "          'shuffle', 'sampler', and 'drop_last'. Custom samplers can be\n",
            "          created with 'sampler()'.\n",
            "\n",
            "num_workers: (int, optional): how many subprocesses to use for data\n",
            "          loading. 0 means that the data will be loaded in the main\n",
            "          process. (default: '0')\n",
            "\n",
            "collate_fn: (callable, optional): merges a list of samples to form a\n",
            "          mini-batch.\n",
            "\n",
            "pin_memory: (bool, optional): If 'TRUE', the data loader will copy\n",
            "          tensors into CUDA pinned memory before returning them.  If\n",
            "          your data elements are a custom type, or your 'collate_fn'\n",
            "          returns a batch that is a custom type see the example below.\n",
            "\n",
            "drop_last: (bool, optional): set to 'TRUE' to drop the last incomplete\n",
            "          batch, if the dataset size is not divisible by the batch\n",
            "          size. If 'FALSE' and the size of dataset is not divisible by\n",
            "          the batch size, then the last batch will be smaller.\n",
            "          (default: 'FALSE')\n",
            "\n",
            " timeout: (numeric, optional): if positive, the timeout value for\n",
            "          collecting a batch from workers. -1 means no timeout.\n",
            "          (default: '-1')\n",
            "\n",
            "worker_init_fn: (callable, optional): If not 'NULL', this will be\n",
            "          called on each worker subprocess with the worker id (an int\n",
            "          in [1, num_workers]) as input, after seeding and before data\n",
            "          loading. (default: 'NULL')\n",
            "\n",
            "worker_globals: (list or character vector, optional) only used when\n",
            "          'num_workers > 0'. If a character vector, then objects with\n",
            "          those names are copied from the global environment to the\n",
            "          workers. If a named list, then this list is copied and\n",
            "          attached to the worker global environment. Notice that the\n",
            "          objects are copied only once at the worker initialization.\n",
            "\n",
            "worker_packages: (character vector, optional) Only used if 'num_workers\n",
            "          > 0' optional character vector naming packages that should be\n",
            "          loaded in each worker.\n",
            "\n",
            "_\bP_\ba_\br_\ba_\bl_\bl_\be_\bl _\bd_\ba_\bt_\ba _\bl_\bo_\ba_\bd_\bi_\bn_\bg:\n",
            "\n",
            "     When using 'num_workers > 0' data loading will happen in parallel\n",
            "     for each worker. Note that batches are taken in parallel and not\n",
            "     observations.\n",
            "\n",
            "     The worker initialization process happens in the following order:\n",
            "\n",
            "        * 'num_workers' R sessions are initialized.\n",
            "\n",
            "     Then in each worker we perform the following actions:\n",
            "\n",
            "        * the 'torch' library is loaded.\n",
            "\n",
            "        * a random seed is set both using 'set.seed()' and using\n",
            "          'torch_manual_seed'.\n",
            "\n",
            "        * packages passed to the 'worker_packages' argument are loaded.\n",
            "\n",
            "        * objects passed trough the 'worker_globals' parameters are\n",
            "          copied into the global environment.\n",
            "\n",
            "        * the 'worker_init' function is ran with an 'id' argument.\n",
            "\n",
            "        * the dataset fetcher is copied to the worker.\n",
            "\n",
            "_\bS_\be_\be _\bA_\bl_\bs_\bo:\n",
            "\n",
            "     'dataset()', 'sampler()'\n"
          ]
        }
      ],
      "source": [
        "#?dataloader"
      ]
    },
    {
      "cell_type": "markdown",
      "id": "24835872-2c0d-4029-8e80-d5a181da1a35",
      "metadata": {},
      "source": [
        "the transform function takes an input, converts it into a PyTorch\n",
        "tensor, flattens the tensor, and then normalizes its values by dividing\n",
        "each element by 255. This is often used as a preprocessing step for\n",
        "image data before feeding it into a neural network"
      ]
    },
    {
      "cell_type": "code",
      "execution_count": null,
      "id": "66b3b5f1-5e33-4e65-b313-1044a1d20a40",
      "metadata": {
        "hash": "week13_cache/ipynb/unnamed-chunk-15_aca0203c0fde025b44d4b3ee95120841",
        "tags": [],
        "vscode": {
          "languageId": "r"
        }
      },
      "outputs": [],
      "source": [
        "transform <- function(x) {\n",
        "    x %>% \n",
        "    torch_tensor() %>%\n",
        "    torch_flatten() %>%\n",
        "    torch_div(255)\n",
        "}"
      ]
    },
    {
      "cell_type": "code",
      "execution_count": 40,
      "id": "589cae65-2f30-4123-b038-2e27d82031c7",
      "metadata": {
        "hash": "week13_cache/ipynb/unnamed-chunk-16_4e24bf499bb91e61ba7c460c4d7bc0df",
        "tags": [],
        "vscode": {
          "languageId": "r"
        }
      },
      "outputs": [],
      "source": [
        "dir <- \"./mnist\"\n",
        "\n",
        "train_ds <- torchvision::mnist_dataset(\n",
        "    root = dir,\n",
        "    train = TRUE,\n",
        "    download = TRUE,\n",
        "    transform = transform)\n",
        "\n",
        "test_ds <- torchvision::mnist_dataset(\n",
        "    root = dir,\n",
        "    train = FALSE,\n",
        "    download = TRUE,\n",
        "    transform = transform) \n"
      ]
    },
    {
      "cell_type": "markdown",
      "id": "48e67bb8-5787-41b1-be4d-348b18045061",
      "metadata": {},
      "source": [
        "In R, an “environment” is a data structure that stores a collection of\n",
        "symbol-value pairs, similar to a dictionary or a hash table in other\n",
        "programming languages. Each symbol (or variable name) in R is associated\n",
        "with a value, and these associations are stored within an environment."
      ]
    },
    {
      "cell_type": "code",
      "execution_count": 50,
      "id": "f7c9fe27-5dcd-4c53-8acf-a8ad143987b0",
      "metadata": {
        "hash": "week13_cache/ipynb/unnamed-chunk-17_333063e6e51dc9c8dbea6c38c6277720",
        "tags": [],
        "vscode": {
          "languageId": "r"
        }
      },
      "outputs": [
        {
          "data": {
            "text/html": [
              "'environment'"
            ],
            "text/latex": [
              "'environment'"
            ],
            "text/markdown": [
              "'environment'"
            ],
            "text/plain": [
              "[1] \"environment\""
            ]
          },
          "metadata": {},
          "output_type": "display_data"
        },
        {
          "data": {
            "text/html": [
              "60000"
            ],
            "text/latex": [
              "60000"
            ],
            "text/markdown": [
              "60000"
            ],
            "text/plain": [
              "[1] 60000"
            ]
          },
          "metadata": {},
          "output_type": "display_data"
        },
        {
          "data": {
            "text/html": [
              "<style>\n",
              ".list-inline {list-style: none; margin:0; padding: 0}\n",
              ".list-inline>li {display: inline-block}\n",
              ".list-inline>li:not(:last-child)::after {content: \"\\00b7\"; padding: 0 .5ex}\n",
              "</style>\n",
              "<ol class=list-inline><li>60000</li><li>28</li><li>28</li></ol>\n"
            ],
            "text/latex": [
              "\\begin{enumerate*}\n",
              "\\item 60000\n",
              "\\item 28\n",
              "\\item 28\n",
              "\\end{enumerate*}\n"
            ],
            "text/markdown": [
              "1. 60000\n",
              "2. 28\n",
              "3. 28\n",
              "\n",
              "\n"
            ],
            "text/plain": [
              "[1] 60000    28    28"
            ]
          },
          "metadata": {},
          "output_type": "display_data"
        },
        {
          "data": {
            "image/png": "[encoded data removed]",
            "text/plain": [
              "Plot with title \"5\""
            ]
          },
          "metadata": {
            "image/png": {
              "height": 420,
              "width": 420
            }
          },
          "output_type": "display_data"
        }
      ],
      "source": [
        "typeof(train_ds)\n",
        "length(train_ds)\n",
        "dim(train_ds$data)\n",
        "x <- train_ds$data[40000, , ] %>% t\n",
        "image(x[1:28, 28:1], useRaster=TRUE, axes = FALSE, col = gray.colors(1000), main = train_ds$targets[40000]-1)\n"
      ]
    },
    {
      "cell_type": "code",
      "execution_count": 57,
      "id": "a7a5e5fe-07ab-4fee-815a-3cdd925b0f63",
      "metadata": {
        "hash": "week13_cache/ipynb/unnamed-chunk-18_8a2c91c628b20e7cc1ca084362b8725e",
        "tags": [],
        "vscode": {
          "languageId": "r"
        }
      },
      "outputs": [
        {
          "data": {
            "image/png": "[encoded data removed]",
            "text/plain": [
              "Plot with title \"4\""
            ]
          },
          "metadata": {
            "image/png": {
              "height": 420,
              "width": 420
            }
          },
          "output_type": "display_data"
        }
      ],
      "source": [
        "i <- sample(1:length(train_ds), 1)\n",
        "x <- train_ds$data[i, , ] %>% t\n",
        "image(x[1:28, 28:1], useRaster=TRUE, axes = FALSE, col = gray.colors(1000), main = train_ds$targets[i]-1)"
      ]
    },
    {
      "cell_type": "code",
      "execution_count": 58,
      "id": "bdc490ea-2f11-419d-a8d4-de0053f22069",
      "metadata": {
        "hash": "week13_cache/ipynb/unnamed-chunk-19_ae05df04b409db431fb4d4301030f8d6",
        "tags": [],
        "vscode": {
          "languageId": "r"
        }
      },
      "outputs": [
        {
          "data": {
            "image/png": "[encoded data removed]",
            "text/plain": [
              "Plot with title \"6\""
            ]
          },
          "metadata": {
            "image/png": {
              "height": 420,
              "width": 420
            }
          },
          "output_type": "display_data"
        }
      ],
      "source": [
        "\n",
        "par(mfrow = c(3,3))\n",
        "for (iter in 1:9){\n",
        "    i <- sample(1:length(train_ds), 1)\n",
        "    x <- train_ds$data[i, , ] %>% t\n",
        "    image(x[1:28, 28:1], useRaster=TRUE, axes = FALSE, col = gray.colors(1000), main = train_ds$targets[i]-1)   \n",
        "}"
      ]
    },
    {
      "cell_type": "markdown",
      "id": "9c9e5f8d-5d57-40be-8522-27431ffa3727",
      "metadata": {},
      "source": [
        "<br><br><br><br> <br><br><br><br>\n",
        "\n",
        "------------------------------------------------------------------------\n",
        "\n",
        "# Image Classification"
      ]
    },
    {
      "cell_type": "code",
      "execution_count": 60,
      "id": "66efd5c2-0f38-4d7a-bcc3-5a32d1e8ad9a",
      "metadata": {
        "hash": "week13_cache/ipynb/unnamed-chunk-20_ad604888d66b25a6a4279982b3c7637d",
        "tags": [],
        "vscode": {
          "languageId": "r"
        }
      },
      "outputs": [
        {
          "data": {
            "text/html": [
              "'environment'"
            ],
            "text/latex": [
              "'environment'"
            ],
            "text/markdown": [
              "'environment'"
            ],
            "text/plain": [
              "[1] \"environment\""
            ]
          },
          "metadata": {},
          "output_type": "display_data"
        },
        {
          "data": {
            "text/plain": [
              "<dataloader>\n",
              "  Public:\n",
              "    .auto_collation: active binding\n",
              "    .dataset_kind: map\n",
              "    .has_getbatch: FALSE\n",
              "    .index_sampler: active binding\n",
              "    .iter: function () \n",
              "    .length: function () \n",
              "    batch_sampler: utils_sampler_batch, utils_sampler, R6\n",
              "    batch_size: 1024\n",
              "    clone: function (deep = FALSE) \n",
              "    collate_fn: function (batch) \n",
              "    dataset: mnist, dataset, R6\n",
              "    drop_last: FALSE\n",
              "    generator: NULL\n",
              "    initialize: function (dataset, batch_size = 1, shuffle = FALSE, sampler = NULL, \n",
              "    multiprocessing_context: NULL\n",
              "    num_workers: 0\n",
              "    pin_memory: FALSE\n",
              "    sampler: utils_sampler_random, utils_sampler, R6\n",
              "    timeout: -1\n",
              "    worker_globals: NULL\n",
              "    worker_init_fn: NULL\n",
              "    worker_packages: NULL"
            ]
          },
          "metadata": {},
          "output_type": "display_data"
        }
      ],
      "source": [
        "train_dl <- dataloader(train_ds, batch_size = 1024, shuffle = TRUE)\n",
        "test_df <- dataloader(test_ds, batch_size = 1024)\n",
        "typeof(train_dl)"
      ]
    },
    {
      "cell_type": "code",
      "execution_count": 62,
      "id": "9bade993-503e-45f9-ae03-2f2eee611dbd",
      "metadata": {
        "hash": "week13_cache/ipynb/unnamed-chunk-21_83ce7eb4a22e469fdaaa89e5e7bec5c8",
        "tags": [],
        "vscode": {
          "languageId": "r"
        }
      },
      "outputs": [],
      "source": [
        "NNet_10 <- nn_module(\n",
        "    initialize = function(p, q1, q2, q3, o){\n",
        "        self$hidden1 <- nn_linear(p, q1) \n",
        "        self$hidden2 <- nn_linear(q1, q2)\n",
        "        self$hidden3 <- nn_linear(q2, q3)\n",
        "        self$output <- nn_linear(q3, o)\n",
        "        self$activation <- nn_relu()\n",
        "    },\n",
        "    forward = function(x){\n",
        "        x %>% \n",
        "        self$hidden1() %>% self$activation() %>%\n",
        "        self$hidden2() %>% self$activation() %>%\n",
        "        self$hidden3() %>% self$activation() %>%\n",
        "        self$output()\n",
        "    }\n",
        ")"
      ]
    },
    {
      "cell_type": "code",
      "execution_count": 63,
      "id": "ede317bc-90b0-428a-9e62-0a4ae3520b3e",
      "metadata": {
        "hash": "week13_cache/ipynb/unnamed-chunk-22_27aab164fc07603c8eea087ea4ca95a0",
        "tags": [],
        "vscode": {
          "languageId": "r"
        }
      },
      "outputs": [
        {
          "name": "stderr",
          "output_type": "stream",
          "text": [
            "Epoch 1/5\n"
          ]
        },
        {
          "ename": "ERROR",
          "evalue": "Error in create_fn_name(fun_name, fun_type, nd_args, args, expected_types): Can't convert argument:input\n",
          "output_type": "error",
          "traceback": [
            "Error in create_fn_name(fun_name, fun_type, nd_args, args, expected_types): Can't convert argument:input\nTraceback:\n",
            "1. NNet_10 %>% setup(loss = nn_cross_entropy_loss(), optimizer = optim_adam, \n .     metrics = list(luz_metric_accuracy())) %>% set_hparams(p = 28 * \n .     28, q1 = 256, q2 = 128, q3 = 64, o = 10) %>% set_opt_hparams(lr = 0.05) %>% \n .     fit(data = train_dl, epochs = 5, verbose = TRUE)",
            "2. fit(., data = train_dl, epochs = 5, verbose = TRUE)",
            "3. fit.luz_module_generator(., data = train_dl, epochs = 5, verbose = TRUE)",
            "4. with_handlers(!!!ctx$handlers, .expr = {\n .     for (epoch in seq_len(ctx$max_epochs)) {\n .         with_handlers(!!!ctx$epoch_handlers, .expr = {\n .             ctx$epoch <- epoch\n .             ctx$iter <- 0L\n .             ctx$data <- ctx$train_data\n .             ctx$call_callbacks(\"on_epoch_begin\")\n .             ctx$call_callbacks(\"on_train_begin\")\n .             local({\n .                 next_batch <- as_iterator(ctx$data)\n .                 while (!is_exhausted(batch <- next_batch())) {\n .                   ctx$batch <- batch\n .                   ctx$iter <- ctx$iter + 1L\n .                   ctx$call_callbacks(\"on_train_batch_begin\")\n .                   step()\n .                   ctx$call_callbacks(\"on_train_batch_end\")\n .                 }\n .             })\n .             ctx$call_callbacks(\"on_train_end\")\n .             if (!is.null(ctx$valid_data)) {\n .                 ctx$data <- ctx$valid_data\n .                 valid_loop(ctx, step)\n .             }\n .             ctx$call_callbacks(\"on_epoch_end\")\n .         })\n .     }\n . })",
            "5. rlang::try_fetch(.expr, ...)",
            "6. withCallingHandlers(expr, condition = function(cnd) {\n .     {\n .         .__handler_frame__. <- TRUE\n .         .__setup_frame__. <- frame\n .         if (inherits(cnd, \"message\")) {\n .             except <- c(\"warning\", \"error\")\n .         }\n .         else if (inherits(cnd, \"warning\")) {\n .             except <- \"error\"\n .         }\n .         else {\n .             except <- \"\"\n .         }\n .     }\n .     while (!is_null(cnd)) {\n .         if (inherits(cnd, \"interrupt\")) {\n .             out <- handlers[[1L]](cnd)\n .             if (!inherits(out, \"rlang_zap\")) \n .                 throw(out)\n .         }\n .         inherit <- .subset2(.subset2(cnd, \"rlang\"), \"inherit\")\n .         if (is_false(inherit)) {\n .             return()\n .         }\n .         cnd <- .subset2(cnd, \"parent\")\n .     }\n . })",
            "7. with_handlers(!!!ctx$epoch_handlers, .expr = {\n .     ctx$epoch <- epoch\n .     ctx$iter <- 0L\n .     ctx$data <- ctx$train_data\n .     ctx$call_callbacks(\"on_epoch_begin\")\n .     ctx$call_callbacks(\"on_train_begin\")\n .     local({\n .         next_batch <- as_iterator(ctx$data)\n .         while (!is_exhausted(batch <- next_batch())) {\n .             ctx$batch <- batch\n .             ctx$iter <- ctx$iter + 1L\n .             ctx$call_callbacks(\"on_train_batch_begin\")\n .             step()\n .             ctx$call_callbacks(\"on_train_batch_end\")\n .         }\n .     })\n .     ctx$call_callbacks(\"on_train_end\")\n .     if (!is.null(ctx$valid_data)) {\n .         ctx$data <- ctx$valid_data\n .         valid_loop(ctx, step)\n .     }\n .     ctx$call_callbacks(\"on_epoch_end\")\n . })",
            "8. rlang::try_fetch(.expr, ...)",
            "9. (function() {\n .     next_batch <- as_iterator(ctx$data)\n .     while (!is_exhausted(batch <- next_batch())) {\n .         ctx$batch <- batch\n .         ctx$iter <- ctx$iter + 1L\n .         ctx$call_callbacks(\"on_train_batch_begin\")\n .         step()\n .         ctx$call_callbacks(\"on_train_batch_end\")\n .     }\n . })()",
            "10. step()",
            "11. default_step(ctx)",
            "12. fit_one_batch(ctx)",
            "13. do.call(ctx$model, list(ctx$input))",
            "14. (structure(function (x) \n  . {\n  .     x %>% self$hidden1() %>% self$activation() %>% self$hidden2() %>% \n  .         self$activation() %>% self$hidden3() %>% self$activation() %>% \n  .         self$output()\n  . }, class = \"nn_module\", module = <environment>))(list(X1 = <pointer: 0x7fed79665f90>, \n  .     X2 = <pointer: 0x7fed79666f00>, X3 = <pointer: 0x7fed64a631c0>, \n  .     X4 = <pointer: 0x7fed700e3640>, X5 = <pointer: 0x7fed64a63ab0>, \n  .     X6 = <pointer: 0x7fed7b61c840>, X7 = <pointer: 0x7fed6f75aad0>, \n  .     X8 = <pointer: 0x7fed64a4f0f0>, X9 = <pointer: 0x7fed79665ef0>, \n  .     X10 = <pointer: 0x7fed7b6264b0>, X11 = <pointer: 0x7fed792ca4c0>, \n  .     X12 = <pointer: 0x7fed64ab8f20>, X13 = <pointer: 0x7fed64a39490>, \n  .     X14 = <pointer: 0x7fed7b61daf0>, X15 = <pointer: 0x7fed79666500>, \n  .     X16 = <pointer: 0x7fed792de390>, X17 = <pointer: 0x7fed796667b0>, \n  .     X18 = <pointer: 0x7fed64a5ec20>, X19 = <pointer: 0x7fed64c270e0>, \n  .     X20 = <pointer: 0x7fed64a5eba0>, X21 = <pointer: 0x7fed792abbf0>, \n  .     X22 = <pointer: 0x7fed64c32a60>, X23 = <pointer: 0x7fed719966d0>, \n  .     X24 = <pointer: 0x7fed64fe4190>, X25 = <pointer: 0x7fed64c7f310>, \n  .     X26 = <pointer: 0x7fed792e9340>, X27 = <pointer: 0x7fed64c284c0>, \n  .     X28 = <pointer: 0x7fed64c4bb10>))",
            "15. x %>% self$hidden1() %>% self$activation() %>% self$hidden2() %>% \n  .     self$activation() %>% self$hidden3() %>% self$activation() %>% \n  .     self$output()   # at line 10-14 of file <text>",
            "16. self$output(.)",
            "17. nnf_linear(input, self$weight, self$bias)",
            "18. torch_linear(input, weight, bias)",
            "19. mget(x = c(\"input\", \"weight\", \"bias\"))",
            "20. self$activation(.)",
            "21. nnf_relu(input, self$inplace)",
            "22. torch_relu(input)",
            "23. mget(x = c(\"self\"))",
            "24. self$hidden3(.)",
            "25. nnf_linear(input, self$weight, self$bias)",
            "26. torch_linear(input, weight, bias)",
            "27. mget(x = c(\"input\", \"weight\", \"bias\"))",
            "28. self$activation(.)",
            "29. nnf_relu(input, self$inplace)",
            "30. torch_relu(input)",
            "31. mget(x = c(\"self\"))",
            "32. self$hidden2(.)",
            "33. nnf_linear(input, self$weight, self$bias)",
            "34. torch_linear(input, weight, bias)",
            "35. mget(x = c(\"input\", \"weight\", \"bias\"))",
            "36. self$activation(.)",
            "37. nnf_relu(input, self$inplace)",
            "38. torch_relu(input)",
            "39. mget(x = c(\"self\"))",
            "40. self$hidden1(.)",
            "41. nnf_linear(input, self$weight, self$bias)",
            "42. torch_linear(input, weight, bias)",
            "43. call_c_function(fun_name = \"linear\", args = args, expected_types = expected_types, \n  .     nd_args = nd_args, return_types = return_types, fun_type = \"namespace\")",
            "44. create_fn_name(fun_name, fun_type, nd_args, args, expected_types)"
          ]
        }
      ],
      "source": [
        "fit_nn <- NNet_10 %>% \n",
        "    # setup model\n",
        "    setup(loss = nn_cross_entropy_loss(),\n",
        "        optimizer = optim_adam,\n",
        "        metrics = list(luz_metric_accuracy())) %>%\n",
        "    # set the hyperparameters\n",
        "    set_hparams(p=28*28, q1 = 256, q2 = 128, q3 = 64, o = 10) %>%\n",
        "    set_opt_hparams(lr = 0.05) %>%\n",
        "    # fit the model\n",
        "    fit(data = train_dl,\n",
        "        # valid_data = test_dl\n",
        "        epochs = 5,\n",
        "        verbose = TRUE)"
      ]
    },
    {
      "cell_type": "code",
      "execution_count": null,
      "id": "6b9bf167-0814-408a-abc6-876696539fdd",
      "metadata": {
        "hash": "week13_cache/ipynb/unnamed-chunk-23_86780eaee00110e6db3a3e4450dd26d6",
        "tags": [],
        "vscode": {
          "languageId": "r"
        }
      },
      "outputs": [],
      "source": []
    },
    {
      "cell_type": "markdown",
      "id": "707d68c5-7b46-4d9a-a06e-40315445c979",
      "metadata": {},
      "source": []
    }
  ],
  "metadata": {
    "kernelspec": {
      "display_name": "R",
      "language": "R",
      "name": "ir"
    },
    "language_info": {
      "codemirror_mode": "r",
      "file_extension": ".r",
      "mimetype": "text/x-r-source",
      "name": "R",
      "pygments_lexer": "r",
      "version": "4.2.1"
    }
  },
  "nbformat": 4,
  "nbformat_minor": 5
}
